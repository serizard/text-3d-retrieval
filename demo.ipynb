{
 "cells": [
  {
   "cell_type": "code",
   "execution_count": 1,
   "metadata": {},
   "outputs": [
    {
     "name": "stdout",
     "output_type": "stream",
     "text": [
      "Jupyter environment detected. Enabling Open3D WebVisualizer.\n",
      "[Open3D INFO] WebRTC GUI backend enabled.\n",
      "[Open3D INFO] WebRTCWindowSystem: HTTP handshake server disabled.\n"
     ]
    }
   ],
   "source": [
    "from main import process_input, retrieve_3d\n",
    "import open3d as o3d\n",
    "from glob import glob\n",
    "import os.path as osp\n",
    "from utils.misc import load_config\n",
    "import open_clip\n",
    "import os\n",
    "import pickle\n",
    "import numpy as np"
   ]
  },
  {
   "cell_type": "code",
   "execution_count": 2,
   "metadata": {},
   "outputs": [],
   "source": [
    "def correct_off_header(file_path):\n",
    "    with open(file_path, 'r') as file:\n",
    "        lines = file.readlines()\n",
    "\n",
    "    if len(lines[0].split('OFF')) > 1:\n",
    "        header = lines[0].split('OFF')\n",
    "        lines[0] = 'OFF\\n'\n",
    "        lines.insert(1, ' '.join(header[1:]).strip() + '\\n')\n",
    "\n",
    "    with open(file_path, 'w') as file:\n",
    "        file.writelines(lines)"
   ]
  },
  {
   "cell_type": "code",
   "execution_count": 3,
   "metadata": {},
   "outputs": [
    {
     "name": "stdout",
     "output_type": "stream",
     "text": [
      "loading OpenCLIP model...\n",
      "loading Shape Embeddings...\n"
     ]
    },
    {
     "ename": "ValueError",
     "evalue": "invalid literal for int() with base 10: ''",
     "output_type": "error",
     "traceback": [
      "\u001b[1;31m---------------------------------------------------------------------------\u001b[0m",
      "\u001b[1;31mValueError\u001b[0m                                Traceback (most recent call last)",
      "Cell \u001b[1;32mIn[3], line 20\u001b[0m\n\u001b[0;32m     18\u001b[0m \u001b[38;5;28;01mwhile\u001b[39;00m \u001b[38;5;28;01mTrue\u001b[39;00m:\n\u001b[0;32m     19\u001b[0m     user_input \u001b[38;5;241m=\u001b[39m \u001b[38;5;28minput\u001b[39m(\u001b[38;5;124m\"\u001b[39m\u001b[38;5;124mEnter a user description of shape to retrieve: \u001b[39m\u001b[38;5;124m\"\u001b[39m)\n\u001b[1;32m---> 20\u001b[0m     k \u001b[38;5;241m=\u001b[39m \u001b[38;5;28;43mint\u001b[39;49m\u001b[43m(\u001b[49m\u001b[38;5;28;43minput\u001b[39;49m\u001b[43m(\u001b[49m\u001b[38;5;124;43m\"\u001b[39;49m\u001b[38;5;124;43mEnter the number of shapes to retrieve: \u001b[39;49m\u001b[38;5;124;43m\"\u001b[39;49m\u001b[43m)\u001b[49m\u001b[43m)\u001b[49m\n\u001b[0;32m     21\u001b[0m     refined_text \u001b[38;5;241m=\u001b[39m [user_input]\n\u001b[0;32m     23\u001b[0m     text_feature \u001b[38;5;241m=\u001b[39m process_input(refined_text, open_clip_model, device)[\u001b[38;5;241m0\u001b[39m] \u001b[38;5;66;03m# (1, embed_dim,)\u001b[39;00m\n",
      "\u001b[1;31mValueError\u001b[0m: invalid literal for int() with base 10: ''"
     ]
    }
   ],
   "source": [
    "config = load_config()\n",
    "\n",
    "print(\"loading OpenCLIP model...\")\n",
    "os.makedirs('./clip_cache', exist_ok=True)\n",
    "\n",
    "open_clip_model, _, open_clip_preprocess = open_clip.create_model_and_transforms('ViT-bigG-14', pretrained='laion2b_s39b_b160k', cache_dir='./clip_cache')\n",
    "open_clip_model = open_clip_model.cpu().eval()\n",
    "device = 'cpu'\n",
    "\n",
    "print('loading Shape Embeddings...')\n",
    "\n",
    "with open('./modelnet_embed/modelnet.pkl', 'rb') as f:\n",
    "    shape_embeddings = pickle.load(f)\n",
    "    shape_ids = np.array(list(shape_embeddings.keys())) # (N,)\n",
    "    embeddings = np.array(list(shape_embeddings.values())) # (N, embed_dim)\n",
    "\n",
    "\n",
    "while True:\n",
    "    user_input = input(\"Enter a user description of shape to retrieve: \")\n",
    "    k = int(input(\"Enter the number of shapes to retrieve: \"))\n",
    "    refined_text = [user_input]\n",
    "\n",
    "    text_feature = process_input(refined_text, open_clip_model, device)[0] # (1, embed_dim,)\n",
    "    retrieve_3d(text_feature, embeddings, shape_ids, config, k=k)\n",
    "\n",
    "    results = glob(\"results/*.off\")\n",
    "\n",
    "    for result in results:\n",
    "        file_name = osp.basename(result).split(\".\")[0]\n",
    "        correct_off_header(result)\n",
    "        mesh = o3d.io.read_triangle_mesh(result)\n",
    "        o3d.visualization.draw_geometries([mesh], window_name=file_name)"
   ]
  }
 ],
 "metadata": {
  "kernelspec": {
   "display_name": "kist_project",
   "language": "python",
   "name": "python3"
  },
  "language_info": {
   "codemirror_mode": {
    "name": "ipython",
    "version": 3
   },
   "file_extension": ".py",
   "mimetype": "text/x-python",
   "name": "python",
   "nbconvert_exporter": "python",
   "pygments_lexer": "ipython3",
   "version": "3.9.19"
  }
 },
 "nbformat": 4,
 "nbformat_minor": 2
}
