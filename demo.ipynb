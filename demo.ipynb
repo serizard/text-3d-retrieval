{
 "cells": [
  {
   "cell_type": "code",
   "execution_count": null,
   "metadata": {},
   "outputs": [],
   "source": [
    "from main import retrieve_3d\n",
    "from utils.data import process_input\n",
    "import open3d as o3d\n",
    "import os.path as osp\n",
    "from utils.misc import load_config\n",
    "import open_clip\n",
    "import os\n",
    "import pickle\n",
    "import numpy as np\n",
    "from utils.refine import TextRefiner\n",
    "from utils.renderer import Renderer\n",
    "import matplotlib.pyplot as plt"
   ]
  },
  {
   "cell_type": "code",
   "execution_count": null,
   "metadata": {},
   "outputs": [],
   "source": [
    "config = load_config()\n",
    "\n",
    "print(\"loading OpenCLIP model...\")\n",
    "os.makedirs('./clip_cache', exist_ok=True)\n",
    "\n",
    "open_clip_model, _, open_clip_preprocess = open_clip.create_model_and_transforms('ViT-bigG-14', \n",
    "                                                                                 pretrained='laion2b_s39b_b160k', \n",
    "                                                                                 cache_dir='./clip_cache')\n",
    "open_clip_model = open_clip_model.cpu().eval()\n",
    "device = 'cpu'\n",
    "\n",
    "print('loading Shape Embeddings...')\n",
    "\n",
    "with open('./modelnet_embed/modelnet.pkl', 'rb') as f:\n",
    "    shape_embeddings = pickle.load(f)\n",
    "    shape_ids = np.array(list(shape_embeddings.keys())) # (N,)\n",
    "    shape_embeddings = np.array(list(shape_embeddings.values())) # (N, embed_dim)\n",
    "\n",
    "with open('./modelnet_embed/modelnet_name.pkl', 'rb') as f:\n",
    "    keyword_embeddings = pickle.load(f)\n",
    "\n",
    "refiner = TextRefiner()\n",
    "\n",
    "while True:\n",
    "    user_input = input(\"Enter a user description of shape to retrieve: \")\n",
    "    k = int(input(\"Enter the number of shapes to retrieve: \"))\n",
    "    refined_text = [refiner.refine(user_input)]\n",
    "    print(f'user input: {user_input}, refined_text: {refined_text[0]}')\n",
    "\n",
    "    text_feature = process_input(refined_text, open_clip_model, device)[0] # (1, embed_dim)\n",
    "    results = retrieve_3d(text_feature, shape_embeddings, shape_ids, keyword_embeddings, k=k)\n",
    "\n",
    "    fig, axes = plt.subplots(1, k, figsize=(k*5, 5))\n",
    "    for i, result in enumerate(results):\n",
    "        file_name = osp.basename(result).split(\".\")[0]\n",
    "        mesh = o3d.io.read_triangle_mesh(result)\n",
    "        o3d.visualization.draw_geometries([mesh], window_name=file_name)\n"
   ]
  }
 ],
 "metadata": {
  "kernelspec": {
   "display_name": "kist_project",
   "language": "python",
   "name": "python3"
  },
  "language_info": {
   "codemirror_mode": {
    "name": "ipython",
    "version": 3
   },
   "file_extension": ".py",
   "mimetype": "text/x-python",
   "name": "python",
   "nbconvert_exporter": "python",
   "pygments_lexer": "ipython3",
   "version": "3.9.19"
  }
 },
 "nbformat": 4,
 "nbformat_minor": 2
}
